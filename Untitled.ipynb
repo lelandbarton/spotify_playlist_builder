{
 "cells": [
  {
   "cell_type": "code",
   "execution_count": 2,
   "metadata": {},
   "outputs": [],
   "source": [
    "import pandas as pd"
   ]
  },
  {
   "cell_type": "code",
   "execution_count": 19,
   "metadata": {},
   "outputs": [],
   "source": [
    "df = pd.read_json(\"./country_playlist.json\")\n",
    "df = df.drop_duplicates()\n",
    "df.to_json('./country_pl.json', orient='records')"
   ]
  },
  {
   "cell_type": "code",
   "execution_count": 32,
   "metadata": {},
   "outputs": [
    {
     "name": "stdout",
     "output_type": "stream",
     "text": [
      "3 Deep Watch My Shoes\n",
      "Eminem The Monster (feat. Rihanna)\n",
      "Drake, Kanye West, Lil Wayne & Eminem Forever (Album Version Explicit)\n",
      "Slim Thug Thug\n",
      "Slim Thug Summertime\n",
      "Plies Shawty (feat. T-Pain)\n",
      "Lil Keke I'm A G (Album Version Explicit) (feat. Birdman)\n",
      "Petey Pablo Freek-A-Leek\n",
      "Juvenile Slow Motion\n",
      "Mims This Is Why I'm Hot\n",
      "Young Dro Shoulder Lean (feat. T.I.)\n",
      "The Game Hate It Or Love It (feat. 50 Cent)\n",
      "Nas Hip Hop Is Dead (feat. will.i.am)\n",
      "2Pac California Love\n",
      "The Notorious B.I.G. Gimme The Loot\n",
      "Kanye West Can't Tell Me Nothing\n",
      "The Notorious B.I.G. Suicidal Thoughts\n",
      "Kanye West Monster (feat. JAY-Z, Rick Ross, Nicki Minaj & Bon Iver)\n",
      "Lil Wayne Believe Me (feat. Drake)\n",
      "Kid Cudi Erase Me (Album Version Edited) (feat. Kanye West)\n",
      "Aloe Blacc The Man\n",
      "The Notorious B.I.G. Machine Gun Funk\n",
      "JAY-Z Dirt Off Your Shoulder (Album Version Explicit)\n",
      "Eminem Sing For The Moment\n",
      "JAY-Z 99 Problems\n",
      "Missy Elliott Work It (feat. 50 Cent) [Remix]\n",
      "JAY-Z 30 Something (Album Version Explicit)\n",
      "Mark Ronson Uptown Funk (feat. Bruno Mars)\n",
      "Baby Bash Suga Suga (feat. Frankie J)\n",
      "J. Cole Crooked Smile (feat. TLC)\n",
      "Jim Jones We Fly High\n",
      "Ice Cube Why We Thugs\n",
      "Eminem Lose Yourself\n",
      "Wiz Khalifa Young, Wild & Free (feat. Bruno Mars)\n",
      "Trivium Dying In Your Arms\n",
      "Kanye West Jesus Walks\n",
      "Kanye West Good Life (feat. T-Pain)\n",
      "Kanye West Black Skinhead\n",
      "Lil Wayne Knockout (Album Version Explicit) (feat. Nicki Minaj)\n",
      "Lupe Fiasco Superstar (feat. Matthew Santos)\n",
      "Young Dro and Dj Drama Shoulder Lean\n",
      "2Pac Changes (Explicit) (feat. Talent)\n",
      "JAY-Z Lucifer (Album Version Explicit)\n",
      "Warren G Regulate\n",
      "Eminem 'Till I Collapse (feat. Nate Dogg)\n",
      "Drake The Motto (feat. Lil Wayne)\n",
      "Lil Wayne Drop The World (Album Version Explicit) (feat. Eminem)\n",
      "The Game The Game & Skrillex: El Chapo\n",
      "Z-Ro Mo City Don\n",
      "Big Moe Purple Stuff (feat. D-Gotti & Randy Scruggs)\n",
      "Slim Thug With The Boss Hogg Outlawz Recognize A Playa\n",
      "Slim Thug Wood Grain Wheel (Radio Edit)\n",
      "UGK (Underground Kingz) Pocket Full of Stones (Pimp C Remix)\n",
      "Lil’ Keke Southside\n",
      "Slim Thug With The Boss Hogg Outlawz Ride 4s\n",
      "Rob-G Reppin' My Block\n",
      "The Notorious B.I.G. Ready To Die\n",
      "Bruno Mars 24K Magic\n",
      "D.R.A.M. Broccoli (feat. Lil Yachty)\n",
      "Quindon Tarver Everybody's Free (To Wear Sunscreen)\n",
      "Ludacris Stand Up (feat. Shawnna)\n"
     ]
    }
   ],
   "source": [
    "import json\n",
    "raw = open('rap_pl.json')\n",
    "json_object = json.load(raw)\n",
    "for song in json_object:\n",
    "\n",
    "    ss = song['artist']+\" \"+song['song']\n",
    "    \n",
    "raw.close()"
   ]
  }
 ],
 "metadata": {
  "kernelspec": {
   "display_name": "Python 3",
   "language": "python",
   "name": "python3"
  },
  "language_info": {
   "codemirror_mode": {
    "name": "ipython",
    "version": 3
   },
   "file_extension": ".py",
   "mimetype": "text/x-python",
   "name": "python",
   "nbconvert_exporter": "python",
   "pygments_lexer": "ipython3",
   "version": "3.6.3"
  }
 },
 "nbformat": 4,
 "nbformat_minor": 2
}
